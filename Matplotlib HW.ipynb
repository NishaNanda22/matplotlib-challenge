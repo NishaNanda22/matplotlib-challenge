{
 "cells": [
  {
   "cell_type": "code",
   "execution_count": 1,
   "metadata": {},
   "outputs": [
    {
     "data": {
      "text/html": [
       "<div>\n",
       "<style scoped>\n",
       "    .dataframe tbody tr th:only-of-type {\n",
       "        vertical-align: middle;\n",
       "    }\n",
       "\n",
       "    .dataframe tbody tr th {\n",
       "        vertical-align: top;\n",
       "    }\n",
       "\n",
       "    .dataframe thead th {\n",
       "        text-align: right;\n",
       "    }\n",
       "</style>\n",
       "<table border=\"1\" class=\"dataframe\">\n",
       "  <thead>\n",
       "    <tr style=\"text-align: right;\">\n",
       "      <th></th>\n",
       "      <th>Mouse ID</th>\n",
       "      <th>Timepoint</th>\n",
       "      <th>Tumor Volume (mm3)</th>\n",
       "      <th>Metastatic Sites</th>\n",
       "      <th>Drug Regimen</th>\n",
       "      <th>Sex</th>\n",
       "      <th>Age_months</th>\n",
       "      <th>Weight (g)</th>\n",
       "    </tr>\n",
       "  </thead>\n",
       "  <tbody>\n",
       "    <tr>\n",
       "      <td>0</td>\n",
       "      <td>b128</td>\n",
       "      <td>0</td>\n",
       "      <td>45.0</td>\n",
       "      <td>0</td>\n",
       "      <td>Capomulin</td>\n",
       "      <td>Female</td>\n",
       "      <td>9</td>\n",
       "      <td>22</td>\n",
       "    </tr>\n",
       "    <tr>\n",
       "      <td>1</td>\n",
       "      <td>f932</td>\n",
       "      <td>0</td>\n",
       "      <td>45.0</td>\n",
       "      <td>0</td>\n",
       "      <td>Ketapril</td>\n",
       "      <td>Male</td>\n",
       "      <td>15</td>\n",
       "      <td>29</td>\n",
       "    </tr>\n",
       "    <tr>\n",
       "      <td>2</td>\n",
       "      <td>g107</td>\n",
       "      <td>0</td>\n",
       "      <td>45.0</td>\n",
       "      <td>0</td>\n",
       "      <td>Ketapril</td>\n",
       "      <td>Female</td>\n",
       "      <td>2</td>\n",
       "      <td>29</td>\n",
       "    </tr>\n",
       "    <tr>\n",
       "      <td>3</td>\n",
       "      <td>a457</td>\n",
       "      <td>0</td>\n",
       "      <td>45.0</td>\n",
       "      <td>0</td>\n",
       "      <td>Ketapril</td>\n",
       "      <td>Female</td>\n",
       "      <td>11</td>\n",
       "      <td>30</td>\n",
       "    </tr>\n",
       "    <tr>\n",
       "      <td>4</td>\n",
       "      <td>c819</td>\n",
       "      <td>0</td>\n",
       "      <td>45.0</td>\n",
       "      <td>0</td>\n",
       "      <td>Ketapril</td>\n",
       "      <td>Male</td>\n",
       "      <td>21</td>\n",
       "      <td>25</td>\n",
       "    </tr>\n",
       "  </tbody>\n",
       "</table>\n",
       "</div>"
      ],
      "text/plain": [
       "  Mouse ID  Timepoint  Tumor Volume (mm3)  Metastatic Sites Drug Regimen  \\\n",
       "0     b128          0                45.0                 0    Capomulin   \n",
       "1     f932          0                45.0                 0     Ketapril   \n",
       "2     g107          0                45.0                 0     Ketapril   \n",
       "3     a457          0                45.0                 0     Ketapril   \n",
       "4     c819          0                45.0                 0     Ketapril   \n",
       "\n",
       "      Sex  Age_months  Weight (g)  \n",
       "0  Female           9          22  \n",
       "1    Male          15          29  \n",
       "2  Female           2          29  \n",
       "3  Female          11          30  \n",
       "4    Male          21          25  "
      ]
     },
     "execution_count": 1,
     "metadata": {},
     "output_type": "execute_result"
    }
   ],
   "source": [
    "# Dependencies and Setup\n",
    "import matplotlib.pyplot as plt\n",
    "import pandas as pd\n",
    "import scipy.stats as st\n",
    "\n",
    "# Study data files\n",
    "mouse_metadata_path = \"Mouse_metadata.csv\"\n",
    "study_results_path = \"Study_results.csv\"\n",
    "\n",
    "# Read the mouse data and the study results\n",
    "mouse_metadata = pd.read_csv(mouse_metadata_path)\n",
    "study_results = pd.read_csv(study_results_path)\n",
    "\n",
    "study_data = pd.merge(study_results, mouse_metadata, how=\"left\", on=\"Mouse ID\")\n",
    "\n",
    "study_data.head()"
   ]
  },
  {
   "cell_type": "code",
   "execution_count": 2,
   "metadata": {},
   "outputs": [
    {
     "data": {
      "text/html": [
       "<div>\n",
       "<style scoped>\n",
       "    .dataframe tbody tr th:only-of-type {\n",
       "        vertical-align: middle;\n",
       "    }\n",
       "\n",
       "    .dataframe tbody tr th {\n",
       "        vertical-align: top;\n",
       "    }\n",
       "\n",
       "    .dataframe thead th {\n",
       "        text-align: right;\n",
       "    }\n",
       "</style>\n",
       "<table border=\"1\" class=\"dataframe\">\n",
       "  <thead>\n",
       "    <tr style=\"text-align: right;\">\n",
       "      <th></th>\n",
       "      <th>Avg Tumor Volume</th>\n",
       "      <th>Median Tumor Volume</th>\n",
       "      <th>Tumor Volume Variance</th>\n",
       "      <th>Tumor Volume Standard Deviation</th>\n",
       "      <th>Tumor Volume Standard Error</th>\n",
       "    </tr>\n",
       "    <tr>\n",
       "      <th>Drug Regimen</th>\n",
       "      <th></th>\n",
       "      <th></th>\n",
       "      <th></th>\n",
       "      <th></th>\n",
       "      <th></th>\n",
       "    </tr>\n",
       "  </thead>\n",
       "  <tbody>\n",
       "    <tr>\n",
       "      <td>Capomulin</td>\n",
       "      <td>40.675741</td>\n",
       "      <td>41.557809</td>\n",
       "      <td>24.947764</td>\n",
       "      <td>4.994774</td>\n",
       "      <td>0.329346</td>\n",
       "    </tr>\n",
       "    <tr>\n",
       "      <td>Ceftamin</td>\n",
       "      <td>52.591172</td>\n",
       "      <td>51.776157</td>\n",
       "      <td>39.290177</td>\n",
       "      <td>6.268188</td>\n",
       "      <td>0.469821</td>\n",
       "    </tr>\n",
       "    <tr>\n",
       "      <td>Infubinol</td>\n",
       "      <td>52.884795</td>\n",
       "      <td>51.820584</td>\n",
       "      <td>43.128684</td>\n",
       "      <td>6.567243</td>\n",
       "      <td>0.492236</td>\n",
       "    </tr>\n",
       "    <tr>\n",
       "      <td>Ketapril</td>\n",
       "      <td>55.235638</td>\n",
       "      <td>53.698743</td>\n",
       "      <td>68.553577</td>\n",
       "      <td>8.279709</td>\n",
       "      <td>0.603860</td>\n",
       "    </tr>\n",
       "    <tr>\n",
       "      <td>Naftisol</td>\n",
       "      <td>54.331565</td>\n",
       "      <td>52.509285</td>\n",
       "      <td>66.173479</td>\n",
       "      <td>8.134708</td>\n",
       "      <td>0.596466</td>\n",
       "    </tr>\n",
       "    <tr>\n",
       "      <td>Placebo</td>\n",
       "      <td>54.033581</td>\n",
       "      <td>52.288934</td>\n",
       "      <td>61.168083</td>\n",
       "      <td>7.821003</td>\n",
       "      <td>0.581331</td>\n",
       "    </tr>\n",
       "    <tr>\n",
       "      <td>Propriva</td>\n",
       "      <td>52.322552</td>\n",
       "      <td>50.854632</td>\n",
       "      <td>42.351070</td>\n",
       "      <td>6.507770</td>\n",
       "      <td>0.512884</td>\n",
       "    </tr>\n",
       "    <tr>\n",
       "      <td>Ramicane</td>\n",
       "      <td>40.216745</td>\n",
       "      <td>40.673236</td>\n",
       "      <td>23.486704</td>\n",
       "      <td>4.846308</td>\n",
       "      <td>0.320955</td>\n",
       "    </tr>\n",
       "    <tr>\n",
       "      <td>Stelasyn</td>\n",
       "      <td>54.233149</td>\n",
       "      <td>52.431737</td>\n",
       "      <td>59.450562</td>\n",
       "      <td>7.710419</td>\n",
       "      <td>0.573111</td>\n",
       "    </tr>\n",
       "    <tr>\n",
       "      <td>Zoniferol</td>\n",
       "      <td>53.236507</td>\n",
       "      <td>51.818479</td>\n",
       "      <td>48.533355</td>\n",
       "      <td>6.966589</td>\n",
       "      <td>0.516398</td>\n",
       "    </tr>\n",
       "  </tbody>\n",
       "</table>\n",
       "</div>"
      ],
      "text/plain": [
       "              Avg Tumor Volume  Median Tumor Volume  Tumor Volume Variance  \\\n",
       "Drug Regimen                                                                 \n",
       "Capomulin            40.675741            41.557809              24.947764   \n",
       "Ceftamin             52.591172            51.776157              39.290177   \n",
       "Infubinol            52.884795            51.820584              43.128684   \n",
       "Ketapril             55.235638            53.698743              68.553577   \n",
       "Naftisol             54.331565            52.509285              66.173479   \n",
       "Placebo              54.033581            52.288934              61.168083   \n",
       "Propriva             52.322552            50.854632              42.351070   \n",
       "Ramicane             40.216745            40.673236              23.486704   \n",
       "Stelasyn             54.233149            52.431737              59.450562   \n",
       "Zoniferol            53.236507            51.818479              48.533355   \n",
       "\n",
       "              Tumor Volume Standard Deviation  Tumor Volume Standard Error  \n",
       "Drug Regimen                                                                \n",
       "Capomulin                            4.994774                     0.329346  \n",
       "Ceftamin                             6.268188                     0.469821  \n",
       "Infubinol                            6.567243                     0.492236  \n",
       "Ketapril                             8.279709                     0.603860  \n",
       "Naftisol                             8.134708                     0.596466  \n",
       "Placebo                              7.821003                     0.581331  \n",
       "Propriva                             6.507770                     0.512884  \n",
       "Ramicane                             4.846308                     0.320955  \n",
       "Stelasyn                             7.710419                     0.573111  \n",
       "Zoniferol                            6.966589                     0.516398  "
      ]
     },
     "execution_count": 2,
     "metadata": {},
     "output_type": "execute_result"
    }
   ],
   "source": [
    "mean = study_data.groupby('Drug Regimen').mean()['Tumor Volume (mm3)']\n",
    "median = study_data.groupby('Drug Regimen').median()['Tumor Volume (mm3)']\n",
    "variance = study_data.groupby('Drug Regimen').var()['Tumor Volume (mm3)']\n",
    "standard_dev = study_data.groupby('Drug Regimen').std()['Tumor Volume (mm3)']\n",
    "sem = study_data.groupby('Drug Regimen').sem()['Tumor Volume (mm3)']\n",
    "summary_statistics = pd.DataFrame({\"Avg Tumor Volume\": mean,\n",
    "                              \"Median Tumor Volume\": median,\n",
    "                              \"Tumor Volume Variance\": variance,\n",
    "                              \"Tumor Volume Standard Deviation\": standard_dev,\n",
    "                              \"Tumor Volume Standard Error\": sem})\n",
    "summary_statistics\n"
   ]
  },
  {
   "cell_type": "code",
   "execution_count": 4,
   "metadata": {},
   "outputs": [
    {
     "data": {
      "image/png": "[encoded data removed]",
      "text/plain": [
       "<Figure size 432x288 with 1 Axes>"
      ]
     },
     "metadata": {
      "needs_background": "light"
     },
     "output_type": "display_data"
    }
   ],
   "source": [
    "barplot = study_data['Drug Regimen'].value_counts()\n",
    "barplot.plot(kind = \"bar\")\n",
    "plt.xlabel(\"Regimen\")\n",
    "plt.xticks(rotation = 70)\n",
    "plt.ylabel(\"Number of Data Points\")\n",
    "plt.show()"
   ]
  },
  {
   "cell_type": "code",
   "execution_count": 8,
   "metadata": {},
   "outputs": [
    {
     "data": {
      "image/png": "[encoded data removed]",
      "text/plain": [
       "<Figure size 432x288 with 1 Axes>"
      ]
     },
     "metadata": {
      "needs_background": "light"
     },
     "output_type": "display_data"
    }
   ],
   "source": [
    "barplot = study_data['Drug Regimen'].value_counts()\n",
    "plt.bar(barplot.index.values,barplot.values)\n",
    "plt.xlabel(\"Regimen\")\n",
    "plt.xticks(rotation = 70)\n",
    "plt.ylabel(\"Number of Data Points\")\n",
    "plt.show()"
   ]
  },
  {
   "cell_type": "code",
   "execution_count": 9,
   "metadata": {},
   "outputs": [
    {
     "data": {
      "image/png": "[encoded data removed]",
      "text/plain": [
       "<Figure size 432x288 with 1 Axes>"
      ]
     },
     "metadata": {},
     "output_type": "display_data"
    }
   ],
   "source": [
    "pie = mouse_metadata.Sex.value_counts()\n",
    "# 1.1 to 1.2 to 1.3 etc adds an extra decimal place\n",
    "pie.plot(kind = \"pie\", autopct = '%1.2f%%')\n",
    "plt.show()"
   ]
  },
  {
   "cell_type": "code",
   "execution_count": 10,
   "metadata": {},
   "outputs": [
    {
     "data": {
      "image/png": "[encoded data removed]",
      "text/plain": [
       "<Figure size 432x288 with 1 Axes>"
      ]
     },
     "metadata": {},
     "output_type": "display_data"
    }
   ],
   "source": [
    "pie = mouse_metadata.Sex.value_counts()\n",
    "plt.pie(pie.values, labels = pie.index.values, autopct='%1.2f%%')\n",
    "plt.ylabel(\"Sex Distribution\")\n",
    "plt.show()"
   ]
  },
  {
   "cell_type": "code",
   "execution_count": 12,
   "metadata": {},
   "outputs": [
    {
     "name": "stdout",
     "output_type": "stream",
     "text": [
      "capomulin potential outliers: 1652    25.472143\n",
      "1849    23.343598\n",
      "Name: Tumor Volume (mm3), dtype: float64\n",
      "ramicane potential outliers: 1814    22.050126\n",
      "Name: Tumor Volume (mm3), dtype: float64\n",
      "infubinol potential outliers: Series([], Name: Tumor Volume (mm3), dtype: float64)\n",
      "ceftamin potential outliers: Series([], Name: Tumor Volume (mm3), dtype: float64)\n"
     ]
    }
   ],
   "source": [
    "capomulin = study_data.loc[study_data[\"Drug Regimen\"] == \"Capomulin\"]['Tumor Volume (mm3)']\n",
    "ramicane = study_data.loc[study_data[\"Drug Regimen\"] == \"Ramicane\"]['Tumor Volume (mm3)']\n",
    "infubinol = study_data.loc[study_data[\"Drug Regimen\"] == \"Infubinol\"]['Tumor Volume (mm3)']\n",
    "ceftamin = study_data.loc[study_data[\"Drug Regimen\"] == \"Ceftamin\"]['Tumor Volume (mm3)']\n",
    "\n",
    "capomulin_outlier = capomulin.quantile([.25,.5,.75])\n",
    "first_q_cap = capomulin_outlier[0.25]\n",
    "last_q_cap = capomulin_outlier[0.75]\n",
    "iqr_cap = last_q_cap - first_q_cap\n",
    "lower_bound_cap = first_q_cap - (1.5 * iqr_cap)\n",
    "upper_bound_cap = last_q_cap + (1.5 * iqr_cap)\n",
    "\n",
    "ramicane_outlier = ramicane.quantile([.25,.5,.75])\n",
    "first_q_ram = ramicane_outlier[0.25]\n",
    "last_q_ram = ramicane_outlier[0.75]\n",
    "iqr_ram = last_q_ram - first_q_ram\n",
    "lower_bound_ram = first_q_ram - (1.5 * iqr_ram)\n",
    "upper_bound_ram = last_q_ram + (1.5 * iqr_ram)\n",
    "\n",
    "infubinol_outlier = infubinol.quantile([.25,.5,.75])\n",
    "first_q_inf = infubinol_outlier[0.25]\n",
    "last_q_inf = infubinol_outlier[0.75]\n",
    "iqr_inf = last_q_inf - first_q_inf\n",
    "lower_bound_inf = first_q_inf - (1.5 * iqr_inf)\n",
    "upper_bound_inf = last_q_inf + (1.5 * iqr_inf)\n",
    "\n",
    "ceftamin_outlier = ceftamin.quantile([.25,.5,.75])\n",
    "first_q_cef = ceftamin_outlier[0.25]\n",
    "last_q_cef = ceftamin_outlier[0.75]\n",
    "iqr_cef = last_q_cef - first_q_cef\n",
    "lower_bound_cef = first_q_cef - (1.5 * iqr_cef)\n",
    "upper_bound_cef = last_q_cef + (1.5 * iqr_cef)\n",
    "\n",
    "\n",
    "\n",
    "\n",
    "print(f\"capomulin potential outliers: {capomulin.loc[(capomulin < lower_bound_cap) | (capomulin > upper_bound_cap)]}\")\n",
    "print(f\"ramicane potential outliers: {ramicane.loc[(ramicane < lower_bound_ram) | (ramicane > upper_bound_ram)]}\")\n",
    "print(f\"infubinol potential outliers: {infubinol.loc[(infubinol < lower_bound_inf) | (infubinol> upper_bound_inf)]}\")\n",
    "print(f\"ceftamin potential outliers: {ceftamin.loc[(ceftamin < lower_bound_cef) | (capomulin > upper_bound_cef)]}\")\n",
    "\n"
   ]
  },
  {
   "cell_type": "code",
   "execution_count": 13,
   "metadata": {},
   "outputs": [
    {
     "name": "stdout",
     "output_type": "stream",
     "text": [
      "capomulin potential outliers: 1652    25.472143\n",
      "1849    23.343598\n",
      "Name: Tumor Volume (mm3), dtype: float64\n",
      "ramicane potential outliers: 1814    22.050126\n",
      "Name: Tumor Volume (mm3), dtype: float64\n",
      "infubinol potential outliers: Series([], Name: Tumor Volume (mm3), dtype: float64)\n",
      "ceftamin potential outliers: Series([], Name: Tumor Volume (mm3), dtype: float64)\n"
     ]
    }
   ],
   "source": [
    "capomulin = study_data.loc[study_data[\"Drug Regimen\"] == \"Capomulin\"]['Tumor Volume (mm3)']\n",
    "ramicane = study_data.loc[study_data[\"Drug Regimen\"] == \"Ramicane\"]['Tumor Volume (mm3)']\n",
    "infubinol = study_data.loc[study_data[\"Drug Regimen\"] == \"Infubinol\"]['Tumor Volume (mm3)']\n",
    "ceftamin = study_data.loc[study_data[\"Drug Regimen\"] == \"Ceftamin\"]['Tumor Volume (mm3)']\n",
    "\n",
    "capomulin_outlier = capomulin.quantile([.25,.5,.75])\n",
    "first_q_cap = capomulin_outlier[0.25]\n",
    "last_q_cap = capomulin_outlier[0.75]\n",
    "iqr_cap = last_q_cap - first_q_cap\n",
    "lower_bound_cap = first_q_cap - (1.5 * iqr_cap)\n",
    "upper_bound_cap = last_q_cap + (1.5 * iqr_cap)\n",
    "\n",
    "ramicane_outlier = ramicane.quantile([.25,.5,.75])\n",
    "first_q_ram = ramicane_outlier[0.25]\n",
    "last_q_ram = ramicane_outlier[0.75]\n",
    "iqr_ram = last_q_ram - first_q_ram\n",
    "lower_bound_ram = first_q_ram - (1.5 * iqr_ram)\n",
    "upper_bound_ram = last_q_ram + (1.5 * iqr_ram)\n",
    "\n",
    "infubinol_outlier = infubinol.quantile([.25,.5,.75])\n",
    "first_q_inf = infubinol_outlier[0.25]\n",
    "last_q_inf = infubinol_outlier[0.75]\n",
    "iqr_inf = last_q_inf - first_q_inf\n",
    "lower_bound_inf = first_q_inf - (1.5 * iqr_inf)\n",
    "upper_bound_inf = last_q_inf + (1.5 * iqr_inf)\n",
    "\n",
    "ceftamin_outlier = ceftamin.quantile([.25,.5,.75])\n",
    "first_q_cef = ceftamin_outlier[0.25]\n",
    "last_q_cef = ceftamin_outlier[0.75]\n",
    "iqr_cef = last_q_cef - first_q_cef\n",
    "lower_bound_cef = first_q_cef - (1.5 * iqr_cef)\n",
    "upper_bound_cef = last_q_cef + (1.5 * iqr_cef)\n",
    "\n",
    "\n",
    "\n",
    "#forgot to change one of the ceftamin labels when i copied from the capomulin version when i ran it the first time whoops\n",
    "print(f\"capomulin potential outliers: {capomulin.loc[(capomulin < lower_bound_cap) | (capomulin > upper_bound_cap)]}\")\n",
    "print(f\"ramicane potential outliers: {ramicane.loc[(ramicane < lower_bound_ram) | (ramicane > upper_bound_ram)]}\")\n",
    "print(f\"infubinol potential outliers: {infubinol.loc[(infubinol < lower_bound_inf) | (infubinol> upper_bound_inf)]}\")\n",
    "print(f\"ceftamin potential outliers: {ceftamin.loc[(ceftamin < lower_bound_cef) | (ceftamin > upper_bound_cef)]}\")"
   ]
  },
  {
   "cell_type": "code",
   "execution_count": 14,
   "metadata": {},
   "outputs": [
    {
     "data": {
      "image/png": "[encoded data removed]",
      "text/plain": [
       "<Figure size 432x288 with 1 Axes>"
      ]
     },
     "metadata": {
      "needs_background": "light"
     },
     "output_type": "display_data"
    }
   ],
   "source": [
    "# pull the cap data, group by individual mice, indicate that we're looking for averages, and then tell it what we want the averages for, then we add labels\n",
    "scatter = study_data.loc[study_data['Drug Regimen'] == \"Capomulin\"]\n",
    "avg_vol = scatter.groupby(['Mouse ID']).mean()\n",
    "plt.scatter(avg_vol['Weight (g)'],avg_vol['Tumor Volume (mm3)'])\n",
    "plt.xlabel('weight')\n",
    "plt.ylabel('avg tumor vol')\n",
    "plt.show()"
   ]
  },
  {
   "cell_type": "code",
   "execution_count": 16,
   "metadata": {},
   "outputs": [
    {
     "name": "stdout",
     "output_type": "stream",
     "text": [
      "correlation coefficient = (0.8419363424694717, 1.322572243471279e-07)\n"
     ]
    },
    {
     "data": {
      "image/png": "[encoded data removed]",
      "text/plain": [
       "<Figure size 432x288 with 1 Axes>"
      ]
     },
     "metadata": {
      "needs_background": "light"
     },
     "output_type": "display_data"
    }
   ],
   "source": [
    "# Calculate the correlation coefficient and linear regression model for mouse weight and average tumor volume for the Capomulin regimen\n",
    "# pearsonr calculates linear correlation between two \n",
    "correlation = st.pearsonr(avg_vol['Weight (g)'],avg_vol['Tumor Volume (mm3)'])\n",
    "print(f\"correlation coefficient = {correlation}\")\n",
    "reg_model = st.linregress(avg_vol['Weight (g)'],avg_vol['Tumor Volume (mm3)'])\n",
    "weights = avg_vol['Weight (g)'] * reg_model[0] + reg_model[1]\n",
    "plt.scatter(avg_vol['Weight (g)'], avg_vol['Tumor Volume (mm3)'])\n",
    "plt.plot(avg_vol['Weight (g)'], weights, color = \"green\")\n",
    "plt.xlabel('weight')\n",
    "plt.ylabel('Average tumor volume')\n",
    "plt.show()"
   ]
  },
  {
   "cell_type": "code",
   "execution_count": null,
   "metadata": {},
   "outputs": [],
   "source": []
  }
 ],
 "metadata": {
  "kernelspec": {
   "display_name": "Python 3",
   "language": "python",
   "name": "python3"
  },
  "language_info": {
   "codemirror_mode": {
    "name": "ipython",
    "version": 3
   },
   "file_extension": ".py",
   "mimetype": "text/x-python",
   "name": "python",
   "nbconvert_exporter": "python",
   "pygments_lexer": "ipython3",
   "version": "3.7.4"
  }
 },
 "nbformat": 4,
 "nbformat_minor": 2
}
